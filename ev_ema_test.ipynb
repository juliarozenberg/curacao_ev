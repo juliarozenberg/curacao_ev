{
 "cells": [
  {
   "cell_type": "markdown",
   "id": "68f0c7a9",
   "metadata": {},
   "source": [
    "# EMA EV Test - connect Vensim Model"
   ]
  },
  {
   "cell_type": "code",
   "execution_count": 1,
   "id": "706c3d9e",
   "metadata": {},
   "outputs": [],
   "source": [
    "from ema_workbench import (Model, RealParameter, ScalarOutcome, Constant,\n",
    "                           perform_experiments, ema_logging)"
   ]
  },
  {
   "cell_type": "code",
   "execution_count": 2,
   "id": "32ba575c",
   "metadata": {},
   "outputs": [
    {
     "name": "stdout",
     "output_type": "stream",
     "text": [
      "EMA Workbench is working!\n"
     ]
    }
   ],
   "source": [
    "ema_logging.log_to_stderr(ema_logging.INFO)\n",
    "print(\"EMA Workbench is working!\")"
   ]
  },
  {
   "cell_type": "code",
   "execution_count": null,
   "id": "ecd25454",
   "metadata": {},
   "outputs": [],
   "source": []
  }
 ],
 "metadata": {
  "kernelspec": {
   "display_name": "cura_ev_env",
   "language": "python",
   "name": "python3"
  },
  "language_info": {
   "codemirror_mode": {
    "name": "ipython",
    "version": 3
   },
   "file_extension": ".py",
   "mimetype": "text/x-python",
   "name": "python",
   "nbconvert_exporter": "python",
   "pygments_lexer": "ipython3",
   "version": "3.11.13"
  }
 },
 "nbformat": 4,
 "nbformat_minor": 5
}
